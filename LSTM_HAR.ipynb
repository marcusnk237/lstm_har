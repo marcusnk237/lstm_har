{
  "cells": [
    {
      "cell_type": "markdown",
      "metadata": {
        "id": "view-in-github",
        "colab_type": "text"
      },
      "source": [
        "<a href=\"https://colab.research.google.com/github/marcusnk237/lstm_har/blob/main/LSTM_HAR.ipynb\" target=\"_parent\"><img src=\"https://colab.research.google.com/assets/colab-badge.svg\" alt=\"Open In Colab\"/></a>"
      ]
    },
    {
      "cell_type": "markdown",
      "metadata": {
        "id": "xK0iMxsg6ZmT"
      },
      "source": [
        "# <a title=\"Activity Recognition\" href=\"https://github.com/guillaume-chevalier/LSTM-Human-Activity-Recognition\" > LSTMs for Human Activity Recognition</a>\n",
        "\n",
        "Human Activity Recognition (HAR) using smartphones dataset and an LSTM RNN. Classifying the type of movement amongst six categories:\n",
        "- WALKING,\n",
        "- WALKING_UPSTAIRS,\n",
        "- WALKING_DOWNSTAIRS,\n",
        "- SITTING,\n",
        "- STANDING,\n",
        "- LAYING."
      ]
    },
    {
      "cell_type": "markdown",
      "source": [
        "### Importing Libraries"
      ],
      "metadata": {
        "id": "KihEAiHXOt_m"
      }
    },
    {
      "cell_type": "code",
      "execution_count": 2,
      "metadata": {
        "colab": {
          "base_uri": "https://localhost:8080/"
        },
        "id": "kX3jIjAGiLHA",
        "outputId": "54f159fb-de77-4757-f081-9c68d9e99373"
      },
      "outputs": [
        {
          "output_type": "stream",
          "name": "stdout",
          "text": [
            "Looking in indexes: https://pypi.org/simple, https://us-python.pkg.dev/colab-wheels/public/simple/\n",
            "Collecting tensorflow_addons\n",
            "  Downloading tensorflow_addons-0.19.0-cp38-cp38-manylinux_2_17_x86_64.manylinux2014_x86_64.whl (1.1 MB)\n",
            "\u001b[K     |████████████████████████████████| 1.1 MB 4.8 MB/s \n",
            "\u001b[?25hRequirement already satisfied: typeguard>=2.7 in /usr/local/lib/python3.8/dist-packages (from tensorflow_addons) (2.7.1)\n",
            "Requirement already satisfied: packaging in /usr/local/lib/python3.8/dist-packages (from tensorflow_addons) (21.3)\n",
            "Requirement already satisfied: pyparsing!=3.0.5,>=2.0.2 in /usr/local/lib/python3.8/dist-packages (from packaging->tensorflow_addons) (3.0.9)\n",
            "Installing collected packages: tensorflow-addons\n",
            "Successfully installed tensorflow-addons-0.19.0\n"
          ]
        },
        {
          "output_type": "stream",
          "name": "stderr",
          "text": [
            "WARNING:absl:`tf.distribute.experimental.TPUStrategy` is deprecated, please use  the non experimental symbol `tf.distribute.TPUStrategy` instead.\n"
          ]
        }
      ],
      "source": [
        "!pip install tensorflow_addons\n",
        "import cv2\n",
        "import gc\n",
        "import os\n",
        "os.environ['TF_CPP_MIN_LOG_LEVEL'] = '2'\n",
        "from subprocess import call\n",
        "\n",
        "import tensorflow.compat.v1.keras.backend as K\n",
        "import tensorflow as tf\n",
        "\n",
        "from tensorflow.keras.callbacks import ModelCheckpoint, EarlyStopping\n",
        "from tensorflow import keras\n",
        "from tensorflow.keras.regularizers import l2\n",
        "from tensorflow_addons.optimizers import CyclicalLearningRate\n",
        "from tensorflow.keras import Model,Sequential,regularizers\n",
        "from tensorflow.keras.layers import MaxPool1D , Dense, Conv1D , Input , GaussianNoise , MaxPooling1D , LSTM, Flatten , add , Dropout , BatchNormalization , ReLU , GlobalAveragePooling1D\n",
        "\n",
        "import sklearn\n",
        "from sklearn import metrics\n",
        "from sklearn.model_selection import train_test_split, StratifiedKFold,StratifiedShuffleSplit\n",
        "from sklearn.metrics import classification_report\n",
        "from sklearn.utils import resample,shuffle\n",
        "from scipy import stats\n",
        "from sklearn.preprocessing import StandardScaler\n",
        "\n",
        "from collections import Counter\n",
        "from imblearn.over_sampling import SMOTE\n",
        "from random import choice\n",
        "import random \n",
        "# Generate and plot a synthetic imbalanced classification dataset\n",
        "import matplotlib.pyplot as plt\n",
        "import matplotlib as mpl\n",
        "mpl.style.use('seaborn')\n",
        "import numpy as np\n",
        "import pandas as pd\n",
        "import gc\n",
        "#### Import libraries\n",
        "\n",
        "import itertools\n",
        "import logging\n",
        "\n",
        "# detect and init the TPU \n",
        "tpu = tf.distribute.cluster_resolver.TPUClusterResolver.connect()\n",
        "# instantiate a distribution strategy\n",
        "tpu_strategy = tf.distribute.experimental.TPUStrategy(tpu)\n",
        "# Set random seed\n",
        "np.random.seed(123)"
      ]
    },
    {
      "cell_type": "code",
      "source": [
        "from google.colab import drive\n",
        "drive.mount('/content/drive')"
      ],
      "metadata": {
        "colab": {
          "base_uri": "https://localhost:8080/"
        },
        "id": "jwmaJ_s4J8QS",
        "outputId": "e18c304c-3c65-4485-f8b5-281a38a1970e"
      },
      "execution_count": 46,
      "outputs": [
        {
          "output_type": "stream",
          "name": "stdout",
          "text": [
            "Mounted at /content/drive\n"
          ]
        }
      ]
    },
    {
      "cell_type": "markdown",
      "source": [
        "## Functions"
      ],
      "metadata": {
        "id": "iiKxkBJTQvEh"
      }
    },
    {
      "cell_type": "markdown",
      "source": [
        "### Plotting confusion matrix:\n",
        "This function prints and plots the confusion matrix.\n",
        "Normalization can be applied by setting `normalize=True`."
      ],
      "metadata": {
        "id": "_FXa1srrQ1ba"
      }
    },
    {
      "cell_type": "code",
      "source": [
        "def plot_confusion_matrix(cm, classes,\n",
        "                          normalize=False,\n",
        "                          title='Confusion matrix',\n",
        "                          cmap=plt.cm.Blues):\n",
        "    \"\"\"\n",
        "    This function prints and plots the confusion matrix.\n",
        "    Normalization can be applied by setting `normalize=True`.\n",
        "    \"\"\"\n",
        "    plt.imshow(cm, interpolation='nearest', cmap=cmap)\n",
        "    plt.title(title)\n",
        "    plt.colorbar()\n",
        "    tick_marks = np.arange(len(classes))\n",
        "    plt.xticks(tick_marks, classes, rotation=45)\n",
        "    plt.yticks(tick_marks, classes)\n",
        "\n",
        "    if normalize:\n",
        "        cm = cm.astype('float') / cm.sum(axis=1)[:, np.newaxis]\n",
        "        print(\"Normalized confusion matrix\")\n",
        "    else:\n",
        "        print('Confusion matrix, without normalization')\n",
        "\n",
        "    print(cm)\n",
        "\n",
        "    thresh = cm.max() / 2.\n",
        "    for i, j in itertools.product(range(cm.shape[0]), range(cm.shape[1])):\n",
        "        plt.text(j, i, cm[i, j],\n",
        "                 horizontalalignment=\"center\",\n",
        "                 color=\"white\" if cm[i, j] > thresh else \"black\")\n",
        "\n",
        "    plt.tight_layout()\n",
        "    plt.ylabel('True label')\n",
        "    plt.xlabel('Predicted label')\n",
        "    plt.savefig('/content/drive/MyDrive/RESVIDLSTM/Models/HAR/{}.jpg'.format(title), format='jpg', dpi=300)"
      ],
      "metadata": {
        "id": "jPJMK49tNBcU"
      },
      "execution_count": 66,
      "outputs": []
    },
    {
      "cell_type": "markdown",
      "source": [
        "### Plotting metrics curves\n",
        "This function prints and plots the training and test loss curve, as well as the training and test accuracy curve"
      ],
      "metadata": {
        "id": "1AtaFuJhQ_i6"
      }
    },
    {
      "cell_type": "code",
      "source": [
        "def metrics_plot(history, field, fn):\n",
        "    def plot(data, val_data, best_index, best_value, title):\n",
        "        plt.plot(range(1, len(data)+1), data, label='train')\n",
        "        plt.plot(range(1, len(data)+1), val_data, label='validation')\n",
        "        if not best_index is None:\n",
        "            plt.axvline(x=best_index+1, linestyle=':', c=\"#777777\")\n",
        "        if not best_value is None:\n",
        "            plt.axhline(y=best_value, linestyle=':', c=\"#777777\")\n",
        "        plt.xlabel('Epoch')\n",
        "        plt.ylabel(field)\n",
        "        plt.xticks(range(0, len(data), 20))\n",
        "        plt.title(title)\n",
        "        plt.legend()\n",
        "        plt.savefig('/content/drive/MyDrive/RESVIDLSTM/Models/HAR/{}.jpg'.format(field), format='jpg', dpi=300)\n",
        "        plt.show()\n",
        "        \n",
        "        \n",
        "    try:\n",
        "       data = history.history[field]\n",
        "       val_data = history.history['val_' + field]\n",
        "    except:\n",
        "       data = history[field]\n",
        "       val_data = history['val_' + field]\n",
        "    tail = int(0.15 * len(data))\n",
        "\n",
        "    best_index = fn(val_data)\n",
        "    best_value = val_data[best_index]\n",
        "\n",
        "    plot(data, val_data, best_index, best_value, \"{} over epochs (best {:06.4f})\".format(field, best_value))\n",
        "    #plot(data[-tail:], val_data[-tail:], None, best_value, \"{} over last {} epochs\".format(field, tail))"
      ],
      "metadata": {
        "id": "huh8wqdRNJPI"
      },
      "execution_count": 67,
      "outputs": []
    },
    {
      "cell_type": "markdown",
      "source": [
        "### Human activity recognition model"
      ],
      "metadata": {
        "id": "FzeF6hKURMSs"
      }
    },
    {
      "cell_type": "code",
      "source": [
        "def get_har_model(timesteps, input_dim):    \n",
        "    inputs_cnn=keras.layers.Input(shape=(timesteps, input_dim), name='inputs_cnn')\n",
        "    pool4 = keras.layers.LSTM(128,return_sequences=True)(inputs_cnn)\n",
        "    pool4=  keras.layers.Dropout(0.5)(pool4)\n",
        "    pool4 = keras.layers.LSTM(128,return_sequences=True)(pool4)\n",
        "    pool4=  keras.layers.Dropout(0.5)(pool4)\n",
        "    pool4=keras.layers.Flatten()(pool4)\n",
        "    pool4 = keras.layers.Dense(64, activation='relu')(pool4)\n",
        "    main_output = keras.layers.Dense(n_classes, activation='softmax', name='main_output')(pool4)\n",
        "    model = keras.Model(inputs= inputs_cnn, outputs=main_output)\n",
        "    return model"
      ],
      "metadata": {
        "id": "N-rtCppFA7ex"
      },
      "execution_count": 77,
      "outputs": []
    },
    {
      "cell_type": "markdown",
      "metadata": {
        "id": "VPKjP-mn6ZmZ"
      },
      "source": [
        "## Preparing dataset"
      ]
    },
    {
      "cell_type": "markdown",
      "source": [
        "### Signals labels"
      ],
      "metadata": {
        "id": "Lj3Kz5W3OzRD"
      }
    },
    {
      "cell_type": "code",
      "execution_count": 3,
      "metadata": {
        "id": "n_fDXYnz6ZmX"
      },
      "outputs": [],
      "source": [
        "# Useful Constants\n",
        "\n",
        "# Those are separate normalised input features for the neural network\n",
        "INPUT_SIGNAL_TYPES = [\n",
        "    \"body_acc_x_\",\n",
        "    \"body_acc_y_\",\n",
        "    \"body_acc_z_\",\n",
        "    \"body_gyro_x_\",\n",
        "    \"body_gyro_y_\",\n",
        "    \"body_gyro_z_\",\n",
        "    \"total_acc_x_\",\n",
        "    \"total_acc_y_\",\n",
        "    \"total_acc_z_\"\n",
        "]\n",
        "\n",
        "# Output classes to learn how to classify\n",
        "LABELS = [\n",
        "    \"WALKING\", \n",
        "    \"WALKING_UPSTAIRS\", \n",
        "    \"WALKING_DOWNSTAIRS\", \n",
        "    \"SITTING\", \n",
        "    \"STANDING\", \n",
        "    \"LAYING\"\n",
        "] \n"
      ]
    },
    {
      "cell_type": "markdown",
      "metadata": {
        "id": "SIntKTuj6ZmX"
      },
      "source": [
        "### Downloading datas"
      ]
    },
    {
      "cell_type": "code",
      "source": [
        "print(\"\")\n",
        "\n",
        "print(\"Downloading...\")\n",
        "if not os.path.exists(\"UCI HAR Dataset.zip\"):\n",
        "    call(\n",
        "        'wget \"https://archive.ics.uci.edu/ml/machine-learning-databases/00240/UCI HAR Dataset.zip\"',\n",
        "        shell=True\n",
        "    )\n",
        "    print(\"Downloading done.\\n\")\n",
        "else:\n",
        "    print(\"Dataset already downloaded. Did not download twice.\\n\")\n",
        "\n",
        "\n",
        "print(\"Extracting...\")\n",
        "extract_directory = os.path.abspath(\"UCI HAR Dataset\")\n",
        "if not os.path.exists(extract_directory):\n",
        "    call(\n",
        "        'unzip -nq \"UCI HAR Dataset.zip\"',\n",
        "        shell=True\n",
        "    )\n",
        "    print(\"Extracting successfully done to {}.\".format(extract_directory))\n",
        "else:\n",
        "    print(\"Dataset already extracted. Did not extract twice.\\n\")"
      ],
      "metadata": {
        "colab": {
          "base_uri": "https://localhost:8080/"
        },
        "id": "JvnG6npV7K69",
        "outputId": "378f450b-5740-499d-a3fb-84912c4b9f32"
      },
      "execution_count": 4,
      "outputs": [
        {
          "output_type": "stream",
          "name": "stdout",
          "text": [
            "\n",
            "Downloading...\n",
            "Downloading done.\n",
            "\n",
            "Extracting...\n",
            "Extracting successfully done to /content/UCI HAR Dataset.\n"
          ]
        }
      ]
    },
    {
      "cell_type": "markdown",
      "source": [
        "### Loading datas"
      ],
      "metadata": {
        "id": "BRXoN_3MQIXZ"
      }
    },
    {
      "cell_type": "code",
      "execution_count": 5,
      "metadata": {
        "id": "o0EO_xda6ZmZ"
      },
      "outputs": [],
      "source": [
        "TRAIN = \"train/\"\n",
        "TEST = \"test/\"\n",
        "\n",
        "DATASET_PATH='/content/UCI HAR Dataset/'\n",
        "# Load \"X\" (the neural network's training and testing inputs)\n",
        "\n",
        "def load_X(X_signals_paths):\n",
        "    X_signals = []\n",
        "    \n",
        "    for signal_type_path in X_signals_paths:\n",
        "        file = open(signal_type_path, 'r')\n",
        "        # Read dataset from disk, dealing with text files' syntax\n",
        "        X_signals.append(\n",
        "            [np.array(serie, dtype=np.float32) for serie in [\n",
        "                row.replace('  ', ' ').strip().split(' ') for row in file\n",
        "            ]]\n",
        "        )\n",
        "        file.close()\n",
        "    \n",
        "    return np.transpose(np.array(X_signals), (1, 2, 0))\n",
        "\n",
        "X_train_signals_paths = [\n",
        "    DATASET_PATH + TRAIN + \"Inertial Signals/\" + signal + \"train.txt\" for signal in INPUT_SIGNAL_TYPES\n",
        "]\n",
        "X_test_signals_paths = [\n",
        "    DATASET_PATH + TEST + \"Inertial Signals/\" + signal + \"test.txt\" for signal in INPUT_SIGNAL_TYPES\n",
        "]\n",
        "\n",
        "X_train = load_X(X_train_signals_paths)\n",
        "X_test = load_X(X_test_signals_paths)\n",
        "\n",
        "\n",
        "# Load \"y\" (the neural network's training and testing outputs)\n",
        "\n",
        "def load_y(y_path):\n",
        "    file = open(y_path, 'r')\n",
        "    # Read dataset from disk, dealing with text file's syntax\n",
        "    y_ = np.array(\n",
        "        [elem for elem in [\n",
        "            row.replace('  ', ' ').strip().split(' ') for row in file\n",
        "        ]], \n",
        "        dtype=np.int32\n",
        "    )\n",
        "    file.close()\n",
        "    \n",
        "    # Substract 1 to each output class for friendly 0-based indexing \n",
        "    return y_ - 1\n",
        "\n",
        "y_train_path = DATASET_PATH + TRAIN + \"y_train.txt\"\n",
        "y_test_path = DATASET_PATH + TEST + \"y_test.txt\"\n",
        "\n",
        "y_train = load_y(y_train_path)\n",
        "y_test = load_y(y_test_path)\n"
      ]
    },
    {
      "cell_type": "markdown",
      "source": [
        "### Training and test datas\n",
        "Since to training isn't sufficient enough (Around 70% of the global dataset), we processed as follow:\n",
        "- We reassemble the dataset\n",
        "- Then, we split it into: Training dataset, test dataset and validation dataset"
      ],
      "metadata": {
        "id": "ZhcDqjv5FqOp"
      }
    },
    {
      "cell_type": "markdown",
      "source": [
        "##### Reassembling data"
      ],
      "metadata": {
        "id": "HuPk6_KNPmYj"
      }
    },
    {
      "cell_type": "code",
      "execution_count": null,
      "metadata": {
        "id": "ktmH3YNT6Zma"
      },
      "outputs": [],
      "source": [
        "# Input Data \n",
        "\n",
        "training_data_count = len(X_train)  # 7352 training series (with 50% overlap between each serie)\n",
        "test_data_count = len(X_test)  # 2947 testing series\n",
        "n_steps = len(X_train[0])  # 128 timesteps per series\n",
        "n_input = len(X_train[0][0])  # 9 input parameters per timestep\n",
        "n_classes = len(LABELS)"
      ]
    },
    {
      "cell_type": "code",
      "source": [
        "X=np.concatenate((X_train,X_test),axis=0) ### Reassembling datas ( features)\n",
        "Y=np.concatenate((y_train,y_test), axis=0) ### Reassembling datas ( labels)\n",
        "Y= np.array([i[0] for i in Y])"
      ],
      "metadata": {
        "id": "7KCZMRXAEldJ"
      },
      "execution_count": 10,
      "outputs": []
    },
    {
      "cell_type": "markdown",
      "source": [
        "##### Split into train, test and validation"
      ],
      "metadata": {
        "id": "qXxRh7DgPpbi"
      }
    },
    {
      "cell_type": "code",
      "source": [
        "Y=Y.astype(int) # Convert label into int\n",
        "## Split into train and test\n",
        "X_train, X_val, y_train, y_val = train_test_split(X,Y, test_size=0.1, random_state=np.random.randint(1,1000, 1)[0], shuffle = True)\n",
        "## Slip into test and validation\n",
        "X_val, X_test, y_val, y_test  = train_test_split(X_val, y_val, test_size=0.5, random_state=np.random.randint(1,1000, 1)[0], shuffle = True)"
      ],
      "metadata": {
        "id": "FF8viaaXFp4u"
      },
      "execution_count": 91,
      "outputs": []
    },
    {
      "cell_type": "markdown",
      "source": [
        "## Training and Testing"
      ],
      "metadata": {
        "id": "7Hj5XX0eQcth"
      }
    },
    {
      "cell_type": "markdown",
      "source": [
        "### Training"
      ],
      "metadata": {
        "id": "nrfoIajBQm4r"
      }
    },
    {
      "cell_type": "code",
      "source": [
        "name_weights = \"human_activity_recognition_weights.h5\"\n",
        "N=X_train.shape[0]\n",
        "batch_size = 32 * tpu_strategy.num_replicas_in_sync\n",
        "iterations = N/batch_size\n",
        "step_size= 2 * iterations\n",
        "lr_schedule = CyclicalLearningRate(1e-6, 1e-3, step_size=step_size, scale_fn=lambda x: tf.pow(0.95,x))\n",
        "optimizer = tf.keras.optimizers.Adam(learning_rate=lr_schedule)\n",
        "print(batch_size) \n",
        "with tpu_strategy.scope():\n",
        "        har_model = get_har_model(X_train.shape[1],X_train.shape[2]) # Instanciate ResVidNet\n",
        "        early_stopping = EarlyStopping(monitor='val_loss', patience=5, verbose=2) # Early stopping parameters\n",
        "        save_best_weights = ModelCheckpoint(filepath=\"/content/drive/MyDrive/RESVIDLSTM/Models/HAR/\"+name_weights, verbose=2, save_best_only=True , restore_best_weights=True) # Model checkpoint parameters\n",
        "        har_model.compile(optimizer=optimizer, loss='sparse_categorical_crossentropy', metrics=['accuracy']) # Model compiling\n",
        "history = har_model.fit(X_train, y_train, validation_data=(X_test, y_test), batch_size=batch_size, epochs=100, shuffle=False,callbacks=[save_best_weights,early_stopping])\n",
        "np.save(\"/content/drive/MyDrive/RESVIDLSTM/Models/HAR/har_history_.npy\",history.history)"
      ],
      "metadata": {
        "colab": {
          "base_uri": "https://localhost:8080/"
        },
        "id": "H4RHBTZbAsyw",
        "outputId": "48e59384-dfc0-47fa-f6bf-c2f02a240293"
      },
      "execution_count": 92,
      "outputs": [
        {
          "output_type": "stream",
          "name": "stdout",
          "text": [
            "256\n",
            "Epoch 1/100\n",
            "37/37 [==============================] - ETA: 0s - loss: 1.3042 - accuracy: 0.4619\n",
            "Epoch 1: val_loss improved from inf to 0.89562, saving model to /content/drive/MyDrive/RESVIDLSTM/Models/HAR/human_activity_recognition_weights.h5\n",
            "37/37 [==============================] - 15s 207ms/step - loss: 1.3042 - accuracy: 0.4619 - val_loss: 0.8956 - val_accuracy: 0.5903\n",
            "Epoch 2/100\n",
            "37/37 [==============================] - ETA: 0s - loss: 0.7062 - accuracy: 0.7060\n",
            "Epoch 2: val_loss improved from 0.89562 to 0.40274, saving model to /content/drive/MyDrive/RESVIDLSTM/Models/HAR/human_activity_recognition_weights.h5\n",
            "37/37 [==============================] - 2s 55ms/step - loss: 0.7062 - accuracy: 0.7060 - val_loss: 0.4027 - val_accuracy: 0.8447\n",
            "Epoch 3/100\n",
            "37/37 [==============================] - ETA: 0s - loss: 0.3360 - accuracy: 0.8775\n",
            "Epoch 3: val_loss improved from 0.40274 to 0.23149, saving model to /content/drive/MyDrive/RESVIDLSTM/Models/HAR/human_activity_recognition_weights.h5\n",
            "37/37 [==============================] - 2s 55ms/step - loss: 0.3360 - accuracy: 0.8775 - val_loss: 0.2315 - val_accuracy: 0.9049\n",
            "Epoch 4/100\n",
            "37/37 [==============================] - ETA: 0s - loss: 0.2388 - accuracy: 0.9113\n",
            "Epoch 4: val_loss improved from 0.23149 to 0.17465, saving model to /content/drive/MyDrive/RESVIDLSTM/Models/HAR/human_activity_recognition_weights.h5\n",
            "37/37 [==============================] - 2s 55ms/step - loss: 0.2388 - accuracy: 0.9113 - val_loss: 0.1746 - val_accuracy: 0.9359\n",
            "Epoch 5/100\n",
            "37/37 [==============================] - ETA: 0s - loss: 0.2095 - accuracy: 0.9224\n",
            "Epoch 5: val_loss improved from 0.17465 to 0.15928, saving model to /content/drive/MyDrive/RESVIDLSTM/Models/HAR/human_activity_recognition_weights.h5\n",
            "37/37 [==============================] - 2s 55ms/step - loss: 0.2095 - accuracy: 0.9224 - val_loss: 0.1593 - val_accuracy: 0.9301\n",
            "Epoch 6/100\n",
            "37/37 [==============================] - ETA: 0s - loss: 0.1668 - accuracy: 0.9325\n",
            "Epoch 6: val_loss improved from 0.15928 to 0.14361, saving model to /content/drive/MyDrive/RESVIDLSTM/Models/HAR/human_activity_recognition_weights.h5\n",
            "37/37 [==============================] - 2s 55ms/step - loss: 0.1668 - accuracy: 0.9325 - val_loss: 0.1436 - val_accuracy: 0.9437\n",
            "Epoch 7/100\n",
            "37/37 [==============================] - ETA: 0s - loss: 0.1427 - accuracy: 0.9414\n",
            "Epoch 7: val_loss improved from 0.14361 to 0.11507, saving model to /content/drive/MyDrive/RESVIDLSTM/Models/HAR/human_activity_recognition_weights.h5\n",
            "37/37 [==============================] - 2s 56ms/step - loss: 0.1427 - accuracy: 0.9414 - val_loss: 0.1151 - val_accuracy: 0.9534\n",
            "Epoch 8/100\n",
            "37/37 [==============================] - ETA: 0s - loss: 0.1177 - accuracy: 0.9508\n",
            "Epoch 8: val_loss improved from 0.11507 to 0.09744, saving model to /content/drive/MyDrive/RESVIDLSTM/Models/HAR/human_activity_recognition_weights.h5\n",
            "37/37 [==============================] - 3s 82ms/step - loss: 0.1177 - accuracy: 0.9508 - val_loss: 0.0974 - val_accuracy: 0.9553\n",
            "Epoch 9/100\n",
            "37/37 [==============================] - ETA: 0s - loss: 0.1148 - accuracy: 0.9521\n",
            "Epoch 9: val_loss did not improve from 0.09744\n",
            "37/37 [==============================] - 2s 50ms/step - loss: 0.1148 - accuracy: 0.9521 - val_loss: 0.1070 - val_accuracy: 0.9515\n",
            "Epoch 10/100\n",
            "37/37 [==============================] - ETA: 0s - loss: 0.1284 - accuracy: 0.9480\n",
            "Epoch 10: val_loss did not improve from 0.09744\n",
            "37/37 [==============================] - 2s 49ms/step - loss: 0.1284 - accuracy: 0.9480 - val_loss: 0.1262 - val_accuracy: 0.9495\n",
            "Epoch 11/100\n",
            "37/37 [==============================] - ETA: 0s - loss: 0.1262 - accuracy: 0.9488\n",
            "Epoch 11: val_loss did not improve from 0.09744\n",
            "37/37 [==============================] - 2s 49ms/step - loss: 0.1262 - accuracy: 0.9488 - val_loss: 0.1154 - val_accuracy: 0.9495\n",
            "Epoch 12/100\n",
            "37/37 [==============================] - ETA: 0s - loss: 0.1172 - accuracy: 0.9530\n",
            "Epoch 12: val_loss improved from 0.09744 to 0.09584, saving model to /content/drive/MyDrive/RESVIDLSTM/Models/HAR/human_activity_recognition_weights.h5\n",
            "37/37 [==============================] - 2s 55ms/step - loss: 0.1172 - accuracy: 0.9530 - val_loss: 0.0958 - val_accuracy: 0.9631\n",
            "Epoch 13/100\n",
            "37/37 [==============================] - ETA: 0s - loss: 0.1140 - accuracy: 0.9517\n",
            "Epoch 13: val_loss did not improve from 0.09584\n",
            "37/37 [==============================] - 2s 50ms/step - loss: 0.1140 - accuracy: 0.9517 - val_loss: 0.1308 - val_accuracy: 0.9456\n",
            "Epoch 14/100\n",
            "37/37 [==============================] - ETA: 0s - loss: 0.1093 - accuracy: 0.9541\n",
            "Epoch 14: val_loss did not improve from 0.09584\n",
            "37/37 [==============================] - 2s 50ms/step - loss: 0.1093 - accuracy: 0.9541 - val_loss: 0.1170 - val_accuracy: 0.9515\n",
            "Epoch 15/100\n",
            "37/37 [==============================] - ETA: 0s - loss: 0.1085 - accuracy: 0.9551\n",
            "Epoch 15: val_loss did not improve from 0.09584\n",
            "37/37 [==============================] - 2s 49ms/step - loss: 0.1085 - accuracy: 0.9551 - val_loss: 0.1013 - val_accuracy: 0.9573\n",
            "Epoch 16/100\n",
            "36/37 [============================>.] - ETA: 0s - loss: 0.1034 - accuracy: 0.9545\n",
            "Epoch 16: val_loss did not improve from 0.09584\n",
            "37/37 [==============================] - 2s 52ms/step - loss: 0.1030 - accuracy: 0.9547 - val_loss: 0.0971 - val_accuracy: 0.9573\n",
            "Epoch 17/100\n",
            "37/37 [==============================] - ETA: 0s - loss: 0.1028 - accuracy: 0.9562\n",
            "Epoch 17: val_loss did not improve from 0.09584\n",
            "37/37 [==============================] - 2s 48ms/step - loss: 0.1028 - accuracy: 0.9562 - val_loss: 0.1089 - val_accuracy: 0.9553\n",
            "Epoch 17: early stopping\n"
          ]
        }
      ]
    },
    {
      "cell_type": "markdown",
      "source": [
        "### Testing"
      ],
      "metadata": {
        "id": "5lyOuqPCRVMl"
      }
    },
    {
      "cell_type": "code",
      "source": [
        "har_model.load_weights(\"/content/drive/MyDrive/RESVIDLSTM/Models/HAR/\"+name_weights) \n",
        "X_covid_test = har_model.evaluate(X_val, y_val) # Evaluate model"
      ],
      "metadata": {
        "colab": {
          "base_uri": "https://localhost:8080/"
        },
        "id": "2HReVVhINThR",
        "outputId": "8821be42-ec90-40cb-a2bb-ac44806356cb"
      },
      "execution_count": 93,
      "outputs": [
        {
          "output_type": "stream",
          "name": "stdout",
          "text": [
            "17/17 [==============================] - 1s 21ms/step - loss: 0.1142 - accuracy: 0.9573\n"
          ]
        }
      ]
    },
    {
      "cell_type": "markdown",
      "source": [
        "### Plotting metrics"
      ],
      "metadata": {
        "id": "bj1BjtLTRWy0"
      }
    },
    {
      "cell_type": "code",
      "source": [
        "metrics_plot(history, 'loss', lambda x: np.argmin(x))\n",
        "metrics_plot(history, 'accuracy', lambda x: np.argmax(x))"
      ],
      "metadata": {
        "colab": {
          "base_uri": "https://localhost:8080/",
          "height": 701
        },
        "id": "v3AwRRCDNqW-",
        "outputId": "d3c2b461-9707-4320-c287-e8d7e9a546ad"
      },
      "execution_count": 94,
      "outputs": [
        {
          "output_type": "display_data",
          "data": {
            "text/plain": [
              "<Figure size 576x396 with 1 Axes>"
            ],
            "image/png": "[encoded data removed]"
          },
          "metadata": {}
        },
        {
          "output_type": "display_data",
          "data": {
            "text/plain": [
              "<Figure size 576x396 with 1 Axes>"
            ],
            "image/png": "[encoded data removed]"
          },
          "metadata": {}
        }
      ]
    },
    {
      "cell_type": "markdown",
      "source": [
        "### Confusion matrix"
      ],
      "metadata": {
        "id": "WGZppNyURZf4"
      }
    },
    {
      "cell_type": "code",
      "source": [
        "y_pred = tf.argmax(har_model.predict(X_val), axis=-1)\n",
        "# Compute confusion matrix\n",
        "cnf_matrix = sklearn.metrics.confusion_matrix(y_val, y_pred)\n",
        "np.set_printoptions(precision=2)\n",
        "\n",
        "\n",
        "# Plot non-normalized confusion matrix\n",
        "plt.figure()\n",
        "plot_confusion_matrix(cnf_matrix, classes=LABELS,title=' Confusion matrix')"
      ],
      "metadata": {
        "colab": {
          "base_uri": "https://localhost:8080/",
          "height": 558
        },
        "id": "cJTMUyBaNr-9",
        "outputId": "35e47b31-e31f-4124-f51f-09bfcae3a8a8"
      },
      "execution_count": 95,
      "outputs": [
        {
          "output_type": "stream",
          "name": "stdout",
          "text": [
            "17/17 [==============================] - 3s 92ms/step\n",
            "Confusion matrix, without normalization\n",
            "[[ 90   0   0   0   1   0]\n",
            " [  0  77   0   0   0   0]\n",
            " [  0   0  60   0   0   0]\n",
            " [  0   0   0  87   9   0]\n",
            " [  0   0   0  12  68   0]\n",
            " [  0   0   0   0   0 111]]\n"
          ]
        },
        {
          "output_type": "display_data",
          "data": {
            "text/plain": [
              "<Figure size 576x396 with 2 Axes>"
            ],
            "image/png": "[encoded data removed]"
          },
          "metadata": {}
        }
      ]
    },
    {
      "cell_type": "markdown",
      "source": [
        "### Classification report"
      ],
      "metadata": {
        "id": "fj2Qb95uRcvN"
      }
    },
    {
      "cell_type": "code",
      "source": [
        "df_class_r = pd.DataFrame(classification_report(y_pred, y_val, digits=2,output_dict=True)).T\n",
        "df_class_r['support'] = df_class_r.support.apply(int)\n",
        "df_class_r.rename(index={'0':LABELS[0], '1':LABELS[1], '2':LABELS[2] ,'3':LABELS[3],'4': LABELS[4],'5': LABELS[5]}, inplace=True)\n",
        "df_r= df_class_r\n",
        "df_r.style.background_gradient(cmap='viridis')"
      ],
      "metadata": {
        "colab": {
          "base_uri": "https://localhost:8080/",
          "height": 332
        },
        "id": "qmvJ-djJN24H",
        "outputId": "77d5257f-869e-4dcc-d814-b62c13ad8569"
      },
      "execution_count": 96,
      "outputs": [
        {
          "output_type": "execute_result",
          "data": {
            "text/plain": [
              "<pandas.io.formats.style.Styler at 0x7f161d15d970>"
            ],
            "text/html": [
              "<style type=\"text/css\">\n",
              "#T_04258_row0_col0 {\n",
              "  background-color: #d0e11c;\n",
              "  color: #000000;\n",
              "}\n",
              "#T_04258_row0_col1, #T_04258_row1_col0, #T_04258_row1_col1, #T_04258_row1_col2, #T_04258_row2_col0, #T_04258_row2_col1, #T_04258_row2_col2, #T_04258_row5_col0, #T_04258_row5_col1, #T_04258_row5_col2, #T_04258_row7_col3, #T_04258_row8_col3 {\n",
              "  background-color: #fde725;\n",
              "  color: #000000;\n",
              "}\n",
              "#T_04258_row0_col2 {\n",
              "  background-color: #e5e419;\n",
              "  color: #000000;\n",
              "}\n",
              "#T_04258_row0_col3 {\n",
              "  background-color: #443b84;\n",
              "  color: #f1f1f1;\n",
              "}\n",
              "#T_04258_row1_col3, #T_04258_row4_col3 {\n",
              "  background-color: #463480;\n",
              "  color: #f1f1f1;\n",
              "}\n",
              "#T_04258_row2_col3 {\n",
              "  background-color: #482979;\n",
              "  color: #f1f1f1;\n",
              "}\n",
              "#T_04258_row3_col0 {\n",
              "  background-color: #2c728e;\n",
              "  color: #f1f1f1;\n",
              "}\n",
              "#T_04258_row3_col1 {\n",
              "  background-color: #481467;\n",
              "  color: #f1f1f1;\n",
              "}\n",
              "#T_04258_row3_col2 {\n",
              "  background-color: #3e4c8a;\n",
              "  color: #f1f1f1;\n",
              "}\n",
              "#T_04258_row3_col3 {\n",
              "  background-color: #424186;\n",
              "  color: #f1f1f1;\n",
              "}\n",
              "#T_04258_row4_col0, #T_04258_row4_col1, #T_04258_row4_col2, #T_04258_row6_col3 {\n",
              "  background-color: #440154;\n",
              "  color: #f1f1f1;\n",
              "}\n",
              "#T_04258_row5_col3 {\n",
              "  background-color: #3f4889;\n",
              "  color: #f1f1f1;\n",
              "}\n",
              "#T_04258_row6_col0, #T_04258_row7_col0, #T_04258_row8_col0 {\n",
              "  background-color: #4cc26c;\n",
              "  color: #000000;\n",
              "}\n",
              "#T_04258_row6_col1, #T_04258_row8_col1 {\n",
              "  background-color: #35b779;\n",
              "  color: #f1f1f1;\n",
              "}\n",
              "#T_04258_row6_col2, #T_04258_row8_col2 {\n",
              "  background-color: #40bd72;\n",
              "  color: #f1f1f1;\n",
              "}\n",
              "#T_04258_row7_col1 {\n",
              "  background-color: #38b977;\n",
              "  color: #f1f1f1;\n",
              "}\n",
              "#T_04258_row7_col2 {\n",
              "  background-color: #42be71;\n",
              "  color: #f1f1f1;\n",
              "}\n",
              "</style>\n",
              "<table id=\"T_04258_\" class=\"dataframe\">\n",
              "  <thead>\n",
              "    <tr>\n",
              "      <th class=\"blank level0\" >&nbsp;</th>\n",
              "      <th class=\"col_heading level0 col0\" >precision</th>\n",
              "      <th class=\"col_heading level0 col1\" >recall</th>\n",
              "      <th class=\"col_heading level0 col2\" >f1-score</th>\n",
              "      <th class=\"col_heading level0 col3\" >support</th>\n",
              "    </tr>\n",
              "  </thead>\n",
              "  <tbody>\n",
              "    <tr>\n",
              "      <th id=\"T_04258_level0_row0\" class=\"row_heading level0 row0\" >WALKING</th>\n",
              "      <td id=\"T_04258_row0_col0\" class=\"data row0 col0\" >0.989011</td>\n",
              "      <td id=\"T_04258_row0_col1\" class=\"data row0 col1\" >1.000000</td>\n",
              "      <td id=\"T_04258_row0_col2\" class=\"data row0 col2\" >0.994475</td>\n",
              "      <td id=\"T_04258_row0_col3\" class=\"data row0 col3\" >90</td>\n",
              "    </tr>\n",
              "    <tr>\n",
              "      <th id=\"T_04258_level0_row1\" class=\"row_heading level0 row1\" >WALKING_UPSTAIRS</th>\n",
              "      <td id=\"T_04258_row1_col0\" class=\"data row1 col0\" >1.000000</td>\n",
              "      <td id=\"T_04258_row1_col1\" class=\"data row1 col1\" >1.000000</td>\n",
              "      <td id=\"T_04258_row1_col2\" class=\"data row1 col2\" >1.000000</td>\n",
              "      <td id=\"T_04258_row1_col3\" class=\"data row1 col3\" >77</td>\n",
              "    </tr>\n",
              "    <tr>\n",
              "      <th id=\"T_04258_level0_row2\" class=\"row_heading level0 row2\" >WALKING_DOWNSTAIRS</th>\n",
              "      <td id=\"T_04258_row2_col0\" class=\"data row2 col0\" >1.000000</td>\n",
              "      <td id=\"T_04258_row2_col1\" class=\"data row2 col1\" >1.000000</td>\n",
              "      <td id=\"T_04258_row2_col2\" class=\"data row2 col2\" >1.000000</td>\n",
              "      <td id=\"T_04258_row2_col3\" class=\"data row2 col3\" >60</td>\n",
              "    </tr>\n",
              "    <tr>\n",
              "      <th id=\"T_04258_level0_row3\" class=\"row_heading level0 row3\" >SITTING</th>\n",
              "      <td id=\"T_04258_row3_col0\" class=\"data row3 col0\" >0.906250</td>\n",
              "      <td id=\"T_04258_row3_col1\" class=\"data row3 col1\" >0.878788</td>\n",
              "      <td id=\"T_04258_row3_col2\" class=\"data row3 col2\" >0.892308</td>\n",
              "      <td id=\"T_04258_row3_col3\" class=\"data row3 col3\" >99</td>\n",
              "    </tr>\n",
              "    <tr>\n",
              "      <th id=\"T_04258_level0_row4\" class=\"row_heading level0 row4\" >STANDING</th>\n",
              "      <td id=\"T_04258_row4_col0\" class=\"data row4 col0\" >0.850000</td>\n",
              "      <td id=\"T_04258_row4_col1\" class=\"data row4 col1\" >0.871795</td>\n",
              "      <td id=\"T_04258_row4_col2\" class=\"data row4 col2\" >0.860759</td>\n",
              "      <td id=\"T_04258_row4_col3\" class=\"data row4 col3\" >78</td>\n",
              "    </tr>\n",
              "    <tr>\n",
              "      <th id=\"T_04258_level0_row5\" class=\"row_heading level0 row5\" >LAYING</th>\n",
              "      <td id=\"T_04258_row5_col0\" class=\"data row5 col0\" >1.000000</td>\n",
              "      <td id=\"T_04258_row5_col1\" class=\"data row5 col1\" >1.000000</td>\n",
              "      <td id=\"T_04258_row5_col2\" class=\"data row5 col2\" >1.000000</td>\n",
              "      <td id=\"T_04258_row5_col3\" class=\"data row5 col3\" >111</td>\n",
              "    </tr>\n",
              "    <tr>\n",
              "      <th id=\"T_04258_level0_row6\" class=\"row_heading level0 row6\" >accuracy</th>\n",
              "      <td id=\"T_04258_row6_col0\" class=\"data row6 col0\" >0.957282</td>\n",
              "      <td id=\"T_04258_row6_col1\" class=\"data row6 col1\" >0.957282</td>\n",
              "      <td id=\"T_04258_row6_col2\" class=\"data row6 col2\" >0.957282</td>\n",
              "      <td id=\"T_04258_row6_col3\" class=\"data row6 col3\" >0</td>\n",
              "    </tr>\n",
              "    <tr>\n",
              "      <th id=\"T_04258_level0_row7\" class=\"row_heading level0 row7\" >macro avg</th>\n",
              "      <td id=\"T_04258_row7_col0\" class=\"data row7 col0\" >0.957543</td>\n",
              "      <td id=\"T_04258_row7_col1\" class=\"data row7 col1\" >0.958430</td>\n",
              "      <td id=\"T_04258_row7_col2\" class=\"data row7 col2\" >0.957924</td>\n",
              "      <td id=\"T_04258_row7_col3\" class=\"data row7 col3\" >515</td>\n",
              "    </tr>\n",
              "    <tr>\n",
              "      <th id=\"T_04258_level0_row8\" class=\"row_heading level0 row8\" >weighted avg</th>\n",
              "      <td id=\"T_04258_row8_col0\" class=\"data row8 col0\" >0.957339</td>\n",
              "      <td id=\"T_04258_row8_col1\" class=\"data row8 col1\" >0.957282</td>\n",
              "      <td id=\"T_04258_row8_col2\" class=\"data row8 col2\" >0.957244</td>\n",
              "      <td id=\"T_04258_row8_col3\" class=\"data row8 col3\" >515</td>\n",
              "    </tr>\n",
              "  </tbody>\n",
              "</table>\n"
            ]
          },
          "metadata": {},
          "execution_count": 96
        }
      ]
    }
  ],
  "metadata": {
    "hide_input": false,
    "kernelspec": {
      "display_name": "Python 3",
      "language": "python",
      "name": "python3"
    },
    "language_info": {
      "codemirror_mode": {
        "name": "ipython",
        "version": 3
      },
      "file_extension": ".py",
      "mimetype": "text/x-python",
      "name": "python",
      "nbconvert_exporter": "python",
      "pygments_lexer": "ipython3",
      "version": "3.6.8"
    },
    "colab": {
      "provenance": [],
      "toc_visible": true,
      "machine_shape": "hm",
      "include_colab_link": true
    },
    "accelerator": "TPU",
    "gpuClass": "standard"
  },
  "nbformat": 4,
  "nbformat_minor": 0
}